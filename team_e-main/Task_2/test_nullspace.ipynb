{
 "cells": [
  {
   "cell_type": "code",
   "execution_count": 2,
   "metadata": {},
   "outputs": [],
   "source": [
    "import numpy as np\n",
    "from scipy.linalg import null_space"
   ]
  },
  {
   "cell_type": "code",
   "execution_count": 3,
   "metadata": {},
   "outputs": [],
   "source": [
    "from numpy.random import default_rng\n",
    "rng = default_rng()\n",
    "B = rng.random((3, 5))\n",
    "Z = null_space(B)\n"
   ]
  },
  {
   "cell_type": "code",
   "execution_count": 17,
   "metadata": {},
   "outputs": [],
   "source": [
    "jaco = np.array([[ 1.25936593e-02,  2.70950594e-01,  1.21979977e-01,\n",
    "        -1.86679326e-02, -2.69905874e-03, -8.99641209e-02,\n",
    "         0.00000000e+00],\n",
    "       [ 3.90684533e-01, -1.32774228e-01,  4.27371732e-01,\n",
    "         2.36773583e-01, -1.00238384e-02, -2.01488564e-01,\n",
    "         0.00000000e+00],\n",
    "       [ 6.42819260e-18, -3.56368291e-01, -1.40102076e-01,\n",
    "         5.64829714e-01, -4.02940280e-02,  5.61499396e-02,\n",
    "         0.00000000e+00],\n",
    "       [ 1.64028025e-17,  4.40037796e-01, -7.83332397e-01,\n",
    "        -2.10808807e-01,  9.73113903e-01, -6.48660233e-02,\n",
    "         9.97841261e-01],\n",
    "       [ 2.15795987e-16,  8.97979253e-01,  3.83857267e-01,\n",
    "        -9.03986369e-01, -2.30188199e-01, -2.40901216e-01,\n",
    "        -2.56336495e-02],\n",
    "       [ 1.00000000e+00,  9.95376654e-17,  4.88921216e-01,\n",
    "         3.71978885e-01, -7.91984081e-03, -9.68379576e-01,\n",
    "        -6.04626725e-02]])"
   ]
  },
  {
   "cell_type": "code",
   "execution_count": 18,
   "metadata": {},
   "outputs": [
    {
     "data": {
      "text/plain": [
       "array([[-0.67011654],\n",
       "       [-0.28938953],\n",
       "       [ 0.27685585],\n",
       "       [-0.04801644],\n",
       "       [ 0.110799  ],\n",
       "       [-0.58335812],\n",
       "       [ 0.18883768]])"
      ]
     },
     "execution_count": 18,
     "metadata": {},
     "output_type": "execute_result"
    }
   ],
   "source": [
    "null_space(jaco)"
   ]
  },
  {
   "cell_type": "code",
   "execution_count": 15,
   "metadata": {},
   "outputs": [
    {
     "name": "stdout",
     "output_type": "stream",
     "text": [
      "False\n"
     ]
    }
   ],
   "source": [
    "a = (null_space(jaco_pinv) is None)\n",
    "print(a)"
   ]
  },
  {
   "cell_type": "code",
   "execution_count": 16,
   "metadata": {},
   "outputs": [
    {
     "data": {
      "text/plain": [
       "6"
      ]
     },
     "execution_count": 16,
     "metadata": {},
     "output_type": "execute_result"
    }
   ],
   "source": [
    "len(null_space(jaco_pinv))"
   ]
  },
  {
   "cell_type": "code",
   "execution_count": 25,
   "metadata": {},
   "outputs": [
    {
     "ename": "TypeError",
     "evalue": "slice indices must be integers or None or have an __index__ method",
     "output_type": "error",
     "traceback": [
      "\u001b[0;31m---------------------------------------------------------------------------\u001b[0m",
      "\u001b[0;31mTypeError\u001b[0m                                 Traceback (most recent call last)",
      "Cell \u001b[0;32mIn[25], line 3\u001b[0m\n\u001b[1;32m      1\u001b[0m A \u001b[39m=\u001b[39m [\u001b[39m1\u001b[39m,\u001b[39m2\u001b[39m,\u001b[39m3\u001b[39m,\u001b[39m4\u001b[39m,\u001b[39m5\u001b[39m,\u001b[39m6\u001b[39m]\n\u001b[1;32m      2\u001b[0m A[\u001b[39m3\u001b[39m:\u001b[39m6\u001b[39m]\n\u001b[0;32m----> 3\u001b[0m A[\u001b[39m0\u001b[39;49m:\u001b[39m4.1\u001b[39;49m]\n",
      "\u001b[0;31mTypeError\u001b[0m: slice indices must be integers or None or have an __index__ method"
     ]
    }
   ],
   "source": [
    "A = [1,2,3,4,5,6]\n",
    "A[3:6]\n",
    "A[0:4]\n"
   ]
  }
 ],
 "metadata": {
  "kernelspec": {
   "display_name": "Python 3",
   "language": "python",
   "name": "python3"
  },
  "language_info": {
   "codemirror_mode": {
    "name": "ipython",
    "version": 3
   },
   "file_extension": ".py",
   "mimetype": "text/x-python",
   "name": "python",
   "nbconvert_exporter": "python",
   "pygments_lexer": "ipython3",
   "version": "3.8.10"
  },
  "orig_nbformat": 4
 },
 "nbformat": 4,
 "nbformat_minor": 2
}
